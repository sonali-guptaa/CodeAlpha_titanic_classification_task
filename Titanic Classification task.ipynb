{
 "cells": [
  {
   "cell_type": "markdown",
   "id": "f854a2ca-ecaf-4097-b336-e13c0a6596f3",
   "metadata": {},
   "source": [
    "# Task 1 - Titanic Classification"
   ]
  },
  {
   "cell_type": "code",
   "execution_count": 2,
   "id": "6d0c027b-b7a2-41ec-9dd1-d8394384f6d8",
   "metadata": {},
   "outputs": [],
   "source": [
    "import pandas as pd\n",
    "import seaborn as sns\n",
    "import matplotlib.pyplot as plt\n",
    "from sklearn.model_selection import train_test_split, GridSearchCV\n",
    "from sklearn.ensemble import RandomForestClassifier\n",
    "from sklearn.linear_model import LogisticRegression\n",
    "from sklearn.svm import SVC\n",
    "from sklearn.metrics import accuracy_score, confusion_matrix, classification_report\n",
    "from sklearn.preprocessing import StandardScaler"
   ]
  },
  {
   "cell_type": "code",
   "execution_count": 3,
   "id": "e6b1d28f-85e3-4395-94ea-088ff867ca57",
   "metadata": {},
   "outputs": [],
   "source": [
    "# Loading the dataset\n",
    "df = pd.read_excel('C:/Users/Rohit Gupta/Downloads/Titanic_dataset.xlsx')"
   ]
  },
  {
   "cell_type": "code",
   "execution_count": 3,
   "id": "a42e1306-5bdb-443a-b116-58b9b375d8c4",
   "metadata": {},
   "outputs": [
    {
     "name": "stdout",
     "output_type": "stream",
     "text": [
      "   pclass  survived                                             name     sex  \\\n",
      "0       1         1                    Allen, Miss. Elisabeth Walton  female   \n",
      "1       1         1                   Allison, Master. Hudson Trevor    male   \n",
      "2       1         0                     Allison, Miss. Helen Loraine  female   \n",
      "3       1         0             Allison, Mr. Hudson Joshua Creighton    male   \n",
      "4       1         0  Allison, Mrs. Hudson J C (Bessie Waldo Daniels)  female   \n",
      "\n",
      "       age  sibsp  parch  ticket      fare    cabin embarked boat   body  \\\n",
      "0  29.0000      0      0   24160  211.3375       B5        S    2    NaN   \n",
      "1   0.9167      1      2  113781  151.5500  C22 C26        S   11    NaN   \n",
      "2   2.0000      1      2  113781  151.5500  C22 C26        S  NaN    NaN   \n",
      "3  30.0000      1      2  113781  151.5500  C22 C26        S  NaN  135.0   \n",
      "4  25.0000      1      2  113781  151.5500  C22 C26        S  NaN    NaN   \n",
      "\n",
      "                         home.dest  \n",
      "0                     St Louis, MO  \n",
      "1  Montreal, PQ / Chesterville, ON  \n",
      "2  Montreal, PQ / Chesterville, ON  \n",
      "3  Montreal, PQ / Chesterville, ON  \n",
      "4  Montreal, PQ / Chesterville, ON  \n"
     ]
    }
   ],
   "source": [
    "# Displaying first few rows\n",
    "print(df.head())"
   ]
  },
  {
   "cell_type": "code",
   "execution_count": 4,
   "id": "b63fb2c8-9fdf-4d88-80df-a445a276b3a0",
   "metadata": {},
   "outputs": [
    {
     "name": "stdout",
     "output_type": "stream",
     "text": [
      "(1309, 14)\n"
     ]
    }
   ],
   "source": [
    "print(df.shape)"
   ]
  },
  {
   "cell_type": "code",
   "execution_count": 5,
   "id": "61bc2777-3531-4313-af99-d32c1430fa42",
   "metadata": {},
   "outputs": [
    {
     "name": "stdout",
     "output_type": "stream",
     "text": [
      "<class 'pandas.core.frame.DataFrame'>\n",
      "RangeIndex: 1309 entries, 0 to 1308\n",
      "Data columns (total 14 columns):\n",
      " #   Column     Non-Null Count  Dtype  \n",
      "---  ------     --------------  -----  \n",
      " 0   pclass     1309 non-null   int64  \n",
      " 1   survived   1309 non-null   int64  \n",
      " 2   name       1309 non-null   object \n",
      " 3   sex        1309 non-null   object \n",
      " 4   age        1046 non-null   float64\n",
      " 5   sibsp      1309 non-null   int64  \n",
      " 6   parch      1309 non-null   int64  \n",
      " 7   ticket     1309 non-null   object \n",
      " 8   fare       1308 non-null   float64\n",
      " 9   cabin      295 non-null    object \n",
      " 10  embarked   1307 non-null   object \n",
      " 11  boat       486 non-null    object \n",
      " 12  body       121 non-null    float64\n",
      " 13  home.dest  745 non-null    object \n",
      "dtypes: float64(3), int64(4), object(7)\n",
      "memory usage: 143.3+ KB\n",
      "None\n"
     ]
    }
   ],
   "source": [
    "print(df.info())"
   ]
  },
  {
   "cell_type": "code",
   "execution_count": 6,
   "id": "7be4cecd-dbee-4ef9-9877-fd061263b841",
   "metadata": {},
   "outputs": [
    {
     "name": "stdout",
     "output_type": "stream",
     "text": [
      "            pclass     survived          age        sibsp        parch  \\\n",
      "count  1309.000000  1309.000000  1046.000000  1309.000000  1309.000000   \n",
      "mean      2.294882     0.381971    29.881135     0.498854     0.385027   \n",
      "std       0.837836     0.486055    14.413500     1.041658     0.865560   \n",
      "min       1.000000     0.000000     0.166700     0.000000     0.000000   \n",
      "25%       2.000000     0.000000    21.000000     0.000000     0.000000   \n",
      "50%       3.000000     0.000000    28.000000     0.000000     0.000000   \n",
      "75%       3.000000     1.000000    39.000000     1.000000     0.000000   \n",
      "max       3.000000     1.000000    80.000000     8.000000     9.000000   \n",
      "\n",
      "              fare        body  \n",
      "count  1308.000000  121.000000  \n",
      "mean     33.295479  160.809917  \n",
      "std      51.758668   97.696922  \n",
      "min       0.000000    1.000000  \n",
      "25%       7.895800   72.000000  \n",
      "50%      14.454200  155.000000  \n",
      "75%      31.275000  256.000000  \n",
      "max     512.329200  328.000000  \n"
     ]
    }
   ],
   "source": [
    "# Statistical Analysis of numerical columns\n",
    "print(df.describe())"
   ]
  },
  {
   "cell_type": "code",
   "execution_count": 7,
   "id": "5a25222f-234d-4e46-af53-244f263da032",
   "metadata": {},
   "outputs": [
    {
     "name": "stdout",
     "output_type": "stream",
     "text": [
      "pclass          0\n",
      "survived        0\n",
      "name            0\n",
      "sex             0\n",
      "age           263\n",
      "sibsp           0\n",
      "parch           0\n",
      "ticket          0\n",
      "fare            1\n",
      "cabin        1014\n",
      "embarked        2\n",
      "boat          823\n",
      "body         1188\n",
      "home.dest     564\n",
      "dtype: int64\n"
     ]
    }
   ],
   "source": [
    "# Checking for missing values\n",
    "print(df.isnull().sum())"
   ]
  },
  {
   "cell_type": "markdown",
   "id": "8f0d1510-cd5e-4290-b3a0-387b53fb1f84",
   "metadata": {},
   "source": [
    "### Missing Values are present in the columns like age, cabin, fare,embarked, boat, body,home.dest."
   ]
  },
  {
   "cell_type": "code",
   "execution_count": 8,
   "id": "e07b5265-6962-46b5-9de2-5ad125c0b0cd",
   "metadata": {},
   "outputs": [
    {
     "name": "stdout",
     "output_type": "stream",
     "text": [
      "Index(['pclass', 'survived', 'name', 'sex', 'age', 'sibsp', 'parch', 'ticket',\n",
      "       'fare', 'cabin', 'embarked', 'boat', 'body', 'home.dest'],\n",
      "      dtype='object')\n"
     ]
    }
   ],
   "source": [
    "print(df.columns)"
   ]
  },
  {
   "cell_type": "code",
   "execution_count": 9,
   "id": "dc97c95e-7049-4619-9cd0-af15e60fe61b",
   "metadata": {},
   "outputs": [],
   "source": [
    "# Dropping columns that won't be used for prediction\n",
    "df.drop(columns=['name', 'ticket', 'cabin', 'boat', 'body', 'home.dest'], inplace=True)"
   ]
  },
  {
   "cell_type": "markdown",
   "id": "f28874ad-b5db-43e9-90ac-d7773059536f",
   "metadata": {},
   "source": [
    "## Handling missing values"
   ]
  },
  {
   "cell_type": "code",
   "execution_count": 11,
   "id": "bbda13bb-1ac9-4a96-93bf-82ff35547b12",
   "metadata": {},
   "outputs": [],
   "source": [
    "# Filling missing values in 'age' with the median age\n",
    "df['age'].fillna(df['age'].median(), inplace=True)\n",
    "\n",
    "# Filling missing values in 'embarked' with the most common port\n",
    "df['embarked'].fillna(df['embarked'].mode()[0], inplace=True)\n",
    "\n",
    "# Handle remaining missing values in the 'fare' column\n",
    "df['fare'].fillna(df['fare'].median(), inplace=True)"
   ]
  },
  {
   "cell_type": "code",
   "execution_count": 12,
   "id": "3e73b686-3ceb-44a2-8f73-746084dd81b9",
   "metadata": {},
   "outputs": [],
   "source": [
    "# Convert categorical variables into dummy/indicator variables\n",
    "df = pd.get_dummies(df, columns=['sex', 'embarked'], drop_first=True)"
   ]
  },
  {
   "cell_type": "code",
   "execution_count": 22,
   "id": "3ae0600c-1584-4f2b-a6ff-75d53864b564",
   "metadata": {},
   "outputs": [],
   "source": [
    "# Feature Engineering\n",
    "df['family_size'] = df['sibsp'] + df['parch'] + 1\n",
    "df['is_alone'] = (df['family_size'] == 1).astype(int)\n",
    "df['fare_per_person'] = df['fare'] / df['family_size']"
   ]
  },
  {
   "cell_type": "code",
   "execution_count": 23,
   "id": "4250c917-ec94-41c1-ac37-5a04b3c28ed4",
   "metadata": {},
   "outputs": [
    {
     "name": "stdout",
     "output_type": "stream",
     "text": [
      "pclass             0\n",
      "survived           0\n",
      "age                0\n",
      "sibsp              0\n",
      "parch              0\n",
      "fare               0\n",
      "sex_male           0\n",
      "embarked_Q         0\n",
      "embarked_S         0\n",
      "family_size        0\n",
      "is_alone           0\n",
      "fare_per_person    0\n",
      "dtype: int64\n"
     ]
    }
   ],
   "source": [
    "print(df.isnull().sum())"
   ]
  },
  {
   "cell_type": "markdown",
   "id": "2c1c2adc-4612-42f7-92bb-95c4f79cdb34",
   "metadata": {},
   "source": [
    "## Experimenting Through Various Models"
   ]
  },
  {
   "cell_type": "code",
   "execution_count": 24,
   "id": "566745a0-aeb4-4ef8-a87c-36bec67efbe8",
   "metadata": {},
   "outputs": [],
   "source": [
    "X = df.drop(columns=['survived'])\n",
    "y = df['survived']"
   ]
  },
  {
   "cell_type": "code",
   "execution_count": 27,
   "id": "ac10406e-6841-4d99-9a49-e1597ee3a326",
   "metadata": {},
   "outputs": [
    {
     "name": "stdout",
     "output_type": "stream",
     "text": [
      "Random Forest Accuracy: 0.7786259541984732\n",
      "Random Forest Confusion Matrix:\n",
      " [[123  21]\n",
      " [ 37  81]]\n",
      "Random Forest Classification Report:\n",
      "               precision    recall  f1-score   support\n",
      "\n",
      "           0       0.77      0.85      0.81       144\n",
      "           1       0.79      0.69      0.74       118\n",
      "\n",
      "    accuracy                           0.78       262\n",
      "   macro avg       0.78      0.77      0.77       262\n",
      "weighted avg       0.78      0.78      0.78       262\n",
      "\n"
     ]
    }
   ],
   "source": [
    "# Scale the features\n",
    "scaler = StandardScaler()\n",
    "X_scaled = scaler.fit_transform(X)\n",
    "\n",
    "# Split the Data\n",
    "X_train, X_test, y_train, y_test = train_test_split(X_scaled, y, test_size=0.2, random_state=42)\n",
    "\n",
    "# Model Training with Random Forest\n",
    "rf_model = RandomForestClassifier(n_estimators=100, random_state=42)\n",
    "rf_model.fit(X_train, y_train)\n",
    "\n",
    "# Model Evaluation\n",
    "y_pred_rf = rf_model.predict(X_test)\n",
    "print(f'Random Forest Accuracy: {accuracy_score(y_test, y_pred_rf)}')\n",
    "print(f'Random Forest Confusion Matrix:\\n {confusion_matrix(y_test, y_pred_rf)}')\n",
    "print(f'Random Forest Classification Report:\\n {classification_report(y_test, y_pred_rf)}')"
   ]
  },
  {
   "cell_type": "code",
   "execution_count": 28,
   "id": "60b6b09a-a54b-4a61-93e6-10341465da3e",
   "metadata": {},
   "outputs": [
    {
     "data": {
      "image/png": "[encoded data removed]",
      "text/plain": [
       "<Figure size 1000x600 with 1 Axes>"
      ]
     },
     "metadata": {},
     "output_type": "display_data"
    }
   ],
   "source": [
    "# Feature Importance from Random Forest\n",
    "rf_importances = pd.Series(rf_model.feature_importances_, index=X.columns).sort_values(ascending=False)\n",
    "plt.figure(figsize=(10, 6))\n",
    "sns.barplot(x=rf_importances, y=rf_importances.index)\n",
    "plt.title('Random Forest Feature Importances')\n",
    "plt.show()"
   ]
  },
  {
   "cell_type": "markdown",
   "id": "bf3468c8-9194-455b-be39-9b140958716c",
   "metadata": {},
   "source": [
    "## Model Performance: \n",
    "The Random Forest model performs reasonably well with an accuracy of around 78%, showing a good balance between precision and recall.oles.tures."
   ]
  },
  {
   "cell_type": "markdown",
   "id": "71957b0d-32e7-4e2b-a9ed-b1ea2195e11d",
   "metadata": {},
   "source": [
    "## Key Factors for Survival:\n",
    "- sex_male: Being male had the highest impact.\n",
    "- Age: Younger passengers had better survival rates.\n",
    "- Economic Status: Higher fare and higher class passengers had higher survival chances.\n",
    "- Family Dynamics: Family size and whether the passenger was alone also played roles."
   ]
  },
  {
   "cell_type": "code",
   "execution_count": 29,
   "id": "a0a64457-ae46-45fc-b1e6-af054d18ed1a",
   "metadata": {},
   "outputs": [
    {
     "name": "stdout",
     "output_type": "stream",
     "text": [
      "Logistic Regression Accuracy: 0.7748091603053435\n",
      "Logistic Regression Confusion Matrix:\n",
      " [[126  18]\n",
      " [ 41  77]]\n",
      "Logistic Regression Classification Report:\n",
      "               precision    recall  f1-score   support\n",
      "\n",
      "           0       0.75      0.88      0.81       144\n",
      "           1       0.81      0.65      0.72       118\n",
      "\n",
      "    accuracy                           0.77       262\n",
      "   macro avg       0.78      0.76      0.77       262\n",
      "weighted avg       0.78      0.77      0.77       262\n",
      "\n"
     ]
    }
   ],
   "source": [
    "# Model Training with Logistic Regression\n",
    "lr_model = LogisticRegression(random_state=42, max_iter=1000)\n",
    "lr_model.fit(X_train, y_train)\n",
    "\n",
    "# Model Evaluation\n",
    "y_pred_lr = lr_model.predict(X_test)\n",
    "print(f'Logistic Regression Accuracy: {accuracy_score(y_test, y_pred_lr)}')\n",
    "print(f'Logistic Regression Confusion Matrix:\\n {confusion_matrix(y_test, y_pred_lr)}')\n",
    "print(f'Logistic Regression Classification Report:\\n {classification_report(y_test, y_pred_lr)}')"
   ]
  },
  {
   "cell_type": "code",
   "execution_count": 30,
   "id": "8728b7e6-b2c7-4818-b895-d51dbdf8a1f1",
   "metadata": {},
   "outputs": [
    {
     "data": {
      "image/png": "[encoded data removed]",
      "text/plain": [
       "<Figure size 1000x600 with 1 Axes>"
      ]
     },
     "metadata": {},
     "output_type": "display_data"
    }
   ],
   "source": [
    "# Feature Importance from Logistic Regression\n",
    "lr_importances = pd.Series(lr_model.coef_[0], index=X.columns).sort_values(ascending=False)\n",
    "plt.figure(figsize=(10, 6))\n",
    "sns.barplot(x=lr_importances, y=lr_importances.index)\n",
    "plt.title('Logistic Regression Feature Importances')\n",
    "plt.show()"
   ]
  },
  {
   "cell_type": "markdown",
   "id": "5dae8a4f-c9ab-4adb-ac1d-f441af043123",
   "metadata": {},
   "source": [
    "## Model Performance: \n",
    "The Logistic Regression model performs similarly to the Random Forest model with an accuracy of around 77%. It shows a good balance between precision and recall, especially for the class \"Not Survived\".hances."
   ]
  },
  {
   "cell_type": "markdown",
   "id": "6905e7b5-a995-43c2-bc80-2ec8acd7b322",
   "metadata": {},
   "source": [
    "## Key Factors for Survival:\n",
    "- Gender: Being male significantly reduces survival chances.\n",
    "- Passenger Class: Higher class passengers had better survival rates.\n",
    "- Family and Companions: Being alone decreased survival chances, while having family members on board increased the chances.\n",
    "- Age: Younger passengers had better survival rates.\n",
    "- Fare: Higher fares were associated with higher chances of survival.\n",
    "- Embarkation Port: Embarkation ports also played a role in survival chances."
   ]
  },
  {
   "cell_type": "code",
   "execution_count": 31,
   "id": "85cf3730-f43a-4747-a806-476f431af14c",
   "metadata": {},
   "outputs": [
    {
     "name": "stdout",
     "output_type": "stream",
     "text": [
      "SVM Accuracy: 0.767175572519084\n",
      "SVM Confusion Matrix:\n",
      " [[126  18]\n",
      " [ 43  75]]\n",
      "SVM Classification Report:\n",
      "               precision    recall  f1-score   support\n",
      "\n",
      "           0       0.75      0.88      0.81       144\n",
      "           1       0.81      0.64      0.71       118\n",
      "\n",
      "    accuracy                           0.77       262\n",
      "   macro avg       0.78      0.76      0.76       262\n",
      "weighted avg       0.77      0.77      0.76       262\n",
      "\n"
     ]
    }
   ],
   "source": [
    "# Model Training with SVM\n",
    "svm_model = SVC(kernel='linear', random_state=42)\n",
    "svm_model.fit(X_train, y_train)\n",
    "\n",
    "# Model Evaluation\n",
    "y_pred_svm = svm_model.predict(X_test)\n",
    "print(f'SVM Accuracy: {accuracy_score(y_test, y_pred_svm)}')\n",
    "print(f'SVM Confusion Matrix:\\n {confusion_matrix(y_test, y_pred_svm)}')\n",
    "print(f'SVM Classification Report:\\n {classification_report(y_test, y_pred_svm)}')"
   ]
  },
  {
   "cell_type": "code",
   "execution_count": 32,
   "id": "b39c7f51-d9fb-484e-9b5c-b7e0c1c67ddf",
   "metadata": {},
   "outputs": [
    {
     "data": {
      "image/png": "[encoded data removed]",
      "text/plain": [
       "<Figure size 1000x600 with 1 Axes>"
      ]
     },
     "metadata": {},
     "output_type": "display_data"
    }
   ],
   "source": [
    "# Feature Importance from SVM\n",
    "svm_importances = pd.Series(svm_model.coef_[0], index=X.columns).sort_values(ascending=False)\n",
    "plt.figure(figsize=(10, 6))\n",
    "sns.barplot(x=svm_importances, y=svm_importances.index)\n",
    "plt.title('SVM Feature Importances')\n",
    "plt.show()"
   ]
  },
  {
   "cell_type": "markdown",
   "id": "d2ebdd17-73fb-4815-b7d8-ffec3a62a0bc",
   "metadata": {},
   "source": [
    "## Model Performance: \n",
    "The SVM model performs similarly to the Random Forest and Logistic Regression models with an accuracy of around 77%. It shows a good balance between precision and recall, especially for the class \"Not Survived\"."
   ]
  },
  {
   "cell_type": "markdown",
   "id": "a9917b21-587f-4a6d-8e55-7459dd4a5b6f",
   "metadata": {},
   "source": [
    "## Key Factors for Survival:\r\n",
    "- Gender: Being male significantly reduces survival chances.\r\n",
    "- Passenger Class: Higher class passengers had better survival rates.\r\n",
    "- Family and Companions: Being alone decreased survival chances, while having family members on board increased the chances.\r\n",
    "- Age: Younger passengers had better survival rates.\r\n",
    "- Fare: Higher fares were associated with higher chances of survival.\r\n",
    "- Embarkation Port: Embarkation ports also played a role in survival chances.ances."
   ]
  },
  {
   "cell_type": "markdown",
   "id": "96323c63-69bc-4e1c-8903-a93a385c7ac2",
   "metadata": {},
   "source": [
    "# Overall Comparison and Insights\r\n",
    "All three models (Random Forest, Logistic Regression, and SVM) show consistent patterns in the factors affecting survival:\r\n",
    "- Sex (male): Strongly negativand positive e impact on survival chances.\r\n",
    "- Passenger Class: Strong positive impact, with higher classes having better survival rates.\r\n",
    "- Being alone: Negative impact on survival chances.\r\n",
    "- Age: Younger passengers had better chances of survival.\r\n",
    "- Fare: Higher fare correlates with higher survival chances.hances."
   ]
  },
  {
   "cell_type": "code",
   "execution_count": null,
   "id": "702810fd-5bf5-409a-9c82-2e7a29fa20ea",
   "metadata": {},
   "outputs": [],
   "source": []
  },
  {
   "cell_type": "code",
   "execution_count": null,
   "id": "54ff39dd-7ea9-4b96-8bba-2a454e3e0434",
   "metadata": {},
   "outputs": [],
   "source": []
  },
  {
   "cell_type": "code",
   "execution_count": null,
   "id": "58f4efdd-5d83-4b65-bfd1-d6a0f6a56fe6",
   "metadata": {},
   "outputs": [],
   "source": []
  },
  {
   "cell_type": "code",
   "execution_count": null,
   "id": "cdcb5a6a-59e9-4626-b779-36a6143f5081",
   "metadata": {},
   "outputs": [],
   "source": []
  },
  {
   "cell_type": "code",
   "execution_count": null,
   "id": "19966813-5b0a-409b-bc50-9abbccc617a7",
   "metadata": {},
   "outputs": [],
   "source": []
  },
  {
   "cell_type": "code",
   "execution_count": null,
   "id": "06b795f5-c9e2-4059-8518-9937c6e89d54",
   "metadata": {},
   "outputs": [],
   "source": []
  },
  {
   "cell_type": "code",
   "execution_count": null,
   "id": "e125eac3-c50d-4803-8cca-61abeb505ef8",
   "metadata": {},
   "outputs": [],
   "source": []
  },
  {
   "cell_type": "code",
   "execution_count": null,
   "id": "347928aa-f63a-40c9-b24b-23058514c15a",
   "metadata": {},
   "outputs": [],
   "source": []
  },
  {
   "cell_type": "code",
   "execution_count": null,
   "id": "3e9909d6-51a8-4271-b52c-56c8a34d6434",
   "metadata": {},
   "outputs": [],
   "source": []
  },
  {
   "cell_type": "code",
   "execution_count": null,
   "id": "ab3ed5b8-f8dd-438f-962f-8d981e7954ae",
   "metadata": {},
   "outputs": [],
   "source": []
  },
  {
   "cell_type": "code",
   "execution_count": null,
   "id": "de38e01d-775d-410f-b428-a0a6c47d17d7",
   "metadata": {},
   "outputs": [],
   "source": []
  },
  {
   "cell_type": "code",
   "execution_count": null,
   "id": "a00f3f37-f9d9-4cb9-8799-104d1cc1a799",
   "metadata": {},
   "outputs": [],
   "source": []
  },
  {
   "cell_type": "code",
   "execution_count": null,
   "id": "8e05046d-6936-4508-8c02-d52240006328",
   "metadata": {},
   "outputs": [],
   "source": []
  }
 ],
 "metadata": {
  "kernelspec": {
   "display_name": "Python 3 (ipykernel)",
   "language": "python",
   "name": "python3"
  },
  "language_info": {
   "codemirror_mode": {
    "name": "ipython",
    "version": 3
   },
   "file_extension": ".py",
   "mimetype": "text/x-python",
   "name": "python",
   "nbconvert_exporter": "python",
   "pygments_lexer": "ipython3",
   "version": "3.11.7"
  }
 },
 "nbformat": 4,
 "nbformat_minor": 5
}
